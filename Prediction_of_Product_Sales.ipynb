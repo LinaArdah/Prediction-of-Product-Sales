{
  "nbformat": 4,
  "nbformat_minor": 0,
  "metadata": {
    "colab": {
      "provenance": [],
      "authorship_tag": "ABX9TyMqJACXeMuegZchdfgUPM0T",
      "include_colab_link": true
    },
    "kernelspec": {
      "name": "python3",
      "display_name": "Python 3"
    },
    "language_info": {
      "name": "python"
    }
  },
  "cells": [
    {
      "cell_type": "markdown",
      "metadata": {
        "id": "view-in-github",
        "colab_type": "text"
      },
      "source": [
        "<a href=\"https://colab.research.google.com/github/LinaArdah/Prediction-of-Product-Sales/blob/main/Prediction_of_Product_Sales.ipynb\" target=\"_parent\"><img src=\"https://colab.research.google.com/assets/colab-badge.svg\" alt=\"Open In Colab\"/></a>"
      ]
    },
    {
      "cell_type": "markdown",
      "source": [
        "#Prediction of Product Sales"
      ],
      "metadata": {
        "id": "bkK4NXQKjKCM"
      }
    },
    {
      "cell_type": "markdown",
      "source": [
        "- Author: Lina Arda"
      ],
      "metadata": {
        "id": "ybx-nrAPjefs"
      }
    },
    {
      "cell_type": "markdown",
      "source": [
        "## Project Overview"
      ],
      "metadata": {
        "id": "JLqeLL7kjjMd"
      }
    },
    {
      "cell_type": "markdown",
      "source": [],
      "metadata": {
        "id": "GqB_ZD8FlTvo"
      }
    },
    {
      "cell_type": "markdown",
      "source": [
        "##Load and Inspect Data"
      ],
      "metadata": {
        "id": "-Cs2uBTQjrwn"
      }
    },
    {
      "cell_type": "code",
      "source": [],
      "metadata": {
        "id": "7iCc-fITlNtN"
      },
      "execution_count": null,
      "outputs": []
    },
    {
      "cell_type": "markdown",
      "source": [
        "##Clean Data"
      ],
      "metadata": {
        "id": "yqjULPHmjx2N"
      }
    },
    {
      "cell_type": "code",
      "source": [],
      "metadata": {
        "id": "xTTNn35_lO1W"
      },
      "execution_count": null,
      "outputs": []
    },
    {
      "cell_type": "markdown",
      "source": [
        "##Exploratory Data Analysis"
      ],
      "metadata": {
        "id": "mkfbqNEYj13P"
      }
    },
    {
      "cell_type": "code",
      "source": [],
      "metadata": {
        "id": "XP5ivjAolPxS"
      },
      "execution_count": null,
      "outputs": []
    },
    {
      "cell_type": "markdown",
      "source": [
        "##Feature Inspection"
      ],
      "metadata": {
        "id": "6m8QMghQj6u8"
      }
    },
    {
      "cell_type": "code",
      "source": [],
      "metadata": {
        "id": "jqg8y6WGlQio"
      },
      "execution_count": null,
      "outputs": []
    }
  ]
}